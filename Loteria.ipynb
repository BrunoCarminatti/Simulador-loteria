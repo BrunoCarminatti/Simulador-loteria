{
 "cells": [
  {
   "cell_type": "code",
   "execution_count": 25,
   "metadata": {},
   "outputs": [
    {
     "name": "stdout",
     "output_type": "stream",
     "text": [
      "Os números sorteados foram: [1, 14, 17, 23, 26, 51]\n",
      "Os números jogados foram: [7, 8, 15, 29, 49, 52]\n",
      "Números acertados: []\n",
      "Quantidade de números acertados: 0\n"
     ]
    }
   ],
   "source": [
    "#simulando apenas uma jogada\n",
    "\n",
    "import random\n",
    "import numpy as np\n",
    "\n",
    "a = np.random.randint(1,61,6)\n",
    "b = np.random.randint(1,61,6)\n",
    "\n",
    "def remover_repetidos(lista):\n",
    "    l = []\n",
    "    for i in lista:\n",
    "        while i in l:\n",
    "            i = np.random.randint(1,61)\n",
    "        l.append(i)\n",
    "        if i not in l:\n",
    "            l.append(i)\n",
    "    l.sort()\n",
    "    return l\n",
    "\n",
    "a = remover_repetidos(a)\n",
    "b = remover_repetidos(b)\n",
    "print('Os números sorteados foram:', a)\n",
    "print('Os números jogados foram:', b)\n",
    "\n",
    "n=0\n",
    "r=[]\n",
    "\n",
    "for i in a:\n",
    "    if i in b:\n",
    "        n+=1\n",
    "        r.append(i)\n",
    "     \n",
    "print('Números acertados:', r)\n",
    "print('Quantidade de números acertados:', n)"
   ]
  },
  {
   "cell_type": "code",
   "execution_count": 30,
   "metadata": {},
   "outputs": [
    {
     "name": "stdout",
     "output_type": "stream",
     "text": [
      "Os números jogados foram: [8, 19, 42, 43, 46, 48]\n",
      "Os números sorteados foram: [19, 43, 46, 48, 51, 57]\n",
      "Números acertados: [19, 43, 46, 48]\n",
      "Quantidade de números acertados: 4\n",
      "Vezes jogadas 529\n",
      "Total gasto R$ 2380.5\n"
     ]
    }
   ],
   "source": [
    "#simulando o n° de tentativas para pelo menos 4 números acertados (prêmio mínimo)\n",
    "\n",
    "import random\n",
    "import numpy as np\n",
    "\n",
    "c=0\n",
    "n=0\n",
    "r=[]\n",
    "\n",
    "while n != (4 or 5 or 6):\n",
    "    c+=1\n",
    "    a = np.random.randint(1,61,6)\n",
    "    b = np.random.randint(1,61,6)\n",
    "\n",
    "    def remover_repetidos(lista):\n",
    "        l = []\n",
    "        for i in lista:\n",
    "            while i in l:\n",
    "                i = np.random.randint(1,61)\n",
    "            l.append(i)\n",
    "            if i not in l:\n",
    "                l.append(i)\n",
    "        l.sort()\n",
    "        return l\n",
    "\n",
    "    a = remover_repetidos(a)\n",
    "    b = remover_repetidos(b)\n",
    "\n",
    "    for i in a:\n",
    "        if i in b:\n",
    "            n+=1\n",
    "            r.append(i)\n",
    "    if n < 4:\n",
    "        r=[]\n",
    "        n=0\n",
    "    \n",
    "print('Os números jogados foram:', a)\n",
    "print('Os números sorteados foram:', b)\n",
    "print('Números acertados:', r)\n",
    "print('Quantidade de números acertados:', n)\n",
    "print('Vezes jogadas', c)\n",
    "print('Total gasto R$', c*4.5)"
   ]
  },
  {
   "cell_type": "code",
   "execution_count": null,
   "metadata": {},
   "outputs": [],
   "source": []
  }
 ],
 "metadata": {
  "kernelspec": {
   "display_name": "Python 3",
   "language": "python",
   "name": "python3"
  },
  "language_info": {
   "codemirror_mode": {
    "name": "ipython",
    "version": 3
   },
   "file_extension": ".py",
   "mimetype": "text/x-python",
   "name": "python",
   "nbconvert_exporter": "python",
   "pygments_lexer": "ipython3",
   "version": "3.7.6"
  }
 },
 "nbformat": 4,
 "nbformat_minor": 2
}
